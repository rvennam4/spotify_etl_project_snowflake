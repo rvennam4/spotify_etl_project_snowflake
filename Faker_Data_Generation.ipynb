{
 "cells": [
  {
   "cell_type": "code",
   "execution_count": 1,
   "id": "cc6ed359",
   "metadata": {},
   "outputs": [
    {
     "name": "stdout",
     "output_type": "stream",
     "text": [
      "Collecting faker\n",
      "  Downloading Faker-18.13.0-py3-none-any.whl (1.7 MB)\n",
      "     |████████████████████████████████| 1.7 MB 20.5 MB/s            \n",
      "\u001b[?25hRequirement already satisfied: python-dateutil>=2.4 in /usr/local/lib/python3.7/dist-packages (from faker) (2.8.2)\n",
      "Requirement already satisfied: typing-extensions>=3.10.0.1 in /usr/local/lib/python3.7/dist-packages (from faker) (4.0.0)\n",
      "Requirement already satisfied: six>=1.5 in /usr/lib/python3/dist-packages (from python-dateutil>=2.4->faker) (1.12.0)\n",
      "Installing collected packages: faker\n",
      "Successfully installed faker-18.13.0\n",
      "\u001b[33mWARNING: Running pip as the 'root' user can result in broken permissions and conflicting behaviour with the system package manager. It is recommended to use a virtual environment instead: https://pip.pypa.io/warnings/venv\u001b[0m\n",
      "\u001b[33mWARNING: You are using pip version 21.3.1; however, version 24.0 is available.\n",
      "You should consider upgrading via the '/usr/bin/python3 -m pip install --upgrade pip' command.\u001b[0m\n",
      "Note: you may need to restart the kernel to use updated packages.\n"
     ]
    }
   ],
   "source": [
    "pip install faker"
   ]
  },
  {
   "cell_type": "code",
   "execution_count": 2,
   "id": "fe22a684",
   "metadata": {},
   "outputs": [],
   "source": [
    "from faker import Faker\n",
    "import csv\n",
    "import random\n",
    "from decimal import Decimal\n",
    "from datetime import datetime\n",
    "\n",
    "RECORD_COUNT = 10000\n",
    "fake = Faker()"
   ]
  },
  {
   "cell_type": "code",
   "execution_count": 3,
   "id": "ebc64cb0",
   "metadata": {},
   "outputs": [
    {
     "name": "stdout",
     "output_type": "stream",
     "text": [
      "20250225023357\n"
     ]
    }
   ],
   "source": [
    "current_time = datetime.now().strftime(\"%Y%m%d%H%M%S\")\n",
    "print(current_time)"
   ]
  },
  {
   "cell_type": "code",
   "execution_count": 4,
   "id": "0da8b64a",
   "metadata": {},
   "outputs": [],
   "source": [
    "def create_csv_file():\n",
    "    with open(f'FakeDataset/customer_{current_time}.csv', 'w', newline='') as csvfile:\n",
    "        fieldnames = [\"customer_id\",\"first_name\",\"last_name\",\"email\",\"street\",\n",
    "                      \"city\",\"state\",\"country\"\n",
    "                     ]\n",
    "        writer = csv.DictWriter(csvfile, fieldnames=fieldnames)\n",
    "\n",
    "        writer.writeheader()\n",
    "        for i in range(RECORD_COUNT):\n",
    "            #print(i)\n",
    "            writer.writerow(\n",
    "                {\n",
    "                    \"customer_id\": i,#fake.random_int(min=1, max=10000),\n",
    "                    'first_name': fake.first_name(),\n",
    "                    'last_name': fake.last_name(),\n",
    "                    'email': fake.email(),\n",
    "                    'street': fake.street_address(),\n",
    "                    'city': fake.city(),\n",
    "                    'state': fake.state(),\n",
    "                    'country': fake.country()\n",
    "                }\n",
    "            )"
   ]
  },
  {
   "cell_type": "code",
   "execution_count": 5,
   "id": "1e6a2156",
   "metadata": {},
   "outputs": [],
   "source": [
    "if __name__ == '__main__':\n",
    "    create_csv_file()"
   ]
  },
  {
   "cell_type": "code",
   "execution_count": null,
   "id": "69911870",
   "metadata": {},
   "outputs": [],
   "source": []
  }
 ],
 "metadata": {
  "kernelspec": {
   "display_name": "Python 3 (ipykernel)",
   "language": "python",
   "name": "python3"
  },
  "language_info": {
   "codemirror_mode": {
    "name": "ipython",
    "version": 3
   },
   "file_extension": ".py",
   "mimetype": "text/x-python",
   "name": "python",
   "nbconvert_exporter": "python",
   "pygments_lexer": "ipython3",
   "version": "3.7.3"
  }
 },
 "nbformat": 4,
 "nbformat_minor": 5
}
